{
 "cells": [
  {
   "cell_type": "code",
   "execution_count": 1,
   "metadata": {
    "collapsed": true
   },
   "outputs": [],
   "source": [
    "# Dependencies\n",
    "import numpy as np\n",
    "import pandas as pd\n",
    "import matplotlib.pyplot as plt\n",
    "import json\n",
    "import tweepy\n",
    "import time\n",
    "import seaborn as sns\n",
    "import requests as req\n",
    "from vaderSentiment.vaderSentiment import SentimentIntensityAnalyzer\n",
    "analyzer = SentimentIntensityAnalyzer()"
   ]
  },
  {
   "cell_type": "code",
   "execution_count": 2,
   "metadata": {
    "collapsed": true
   },
   "outputs": [],
   "source": [
    "# Twitter API Keys\n",
    "consumer_key = \"mASfKnDIqTr8R2DWH2sGgly4y\"\n",
    "consumer_secret = \"J5vkMT0O7LaiVOoqVjdzZrcBFGbVpITidUm482zZmTqQOJSGya\"\n",
    "access_token = \"94037456-d7ycRTHsUuKN2okXLBRaCIGpcnbpxNNaLEEg4q4oD\"\n",
    "access_token_secret = \"LDn6HRwemUPJU2wI5J15HuQwC6xizLvZO2SmYtS2s3hWc\""
   ]
  },
  {
   "cell_type": "code",
   "execution_count": 3,
   "metadata": {
    "collapsed": true
   },
   "outputs": [],
   "source": [
    "# Setup Tweepy API Authentication\n",
    "auth = tweepy.OAuthHandler(consumer_key, consumer_secret)\n",
    "auth.set_access_token(access_token, access_token_secret)\n",
    "api = tweepy.API(auth, parser=tweepy.parsers.JSONParser())"
   ]
  },
  {
   "cell_type": "code",
   "execution_count": 4,
   "metadata": {
    "collapsed": true
   },
   "outputs": [],
   "source": [
    "# Target User Accounts\n",
    "news = [\"@nytimes\", \"@CBS\", \"@CNN\", \"@FoxNews\", \"@BBC\"]"
   ]
  },
  {
   "cell_type": "code",
   "execution_count": 5,
   "metadata": {
    "collapsed": true
   },
   "outputs": [],
   "source": [
    "# Add List to hold sentiment\n",
    "# Variables for holding sentiments\n",
    "text = []\n",
    "date = []\n",
    "source = []\n",
    "compoundlist = []\n",
    "positivescore = []\n",
    "negativescore = []\n",
    "neutralscore = []\n",
    "username = []"
   ]
  },
  {
   "cell_type": "code",
   "execution_count": 6,
   "metadata": {
    "collapsed": true
   },
   "outputs": [],
   "source": [
    "# Loop through each user\n",
    "for newsoutlet in news:\n",
    "    tweets = api.search(newsoutlet, count = 100, result_type = \"recent\")\n",
    "    for tweet in tweets[\"statuses\"]:\n",
    "        source.append(newsoutlet)\n",
    "        comp= analyzer.polarity_scores(tweet[\"text\"])[\"compound\"]\n",
    "        pos = analyzer.polarity_scores(tweet[\"text\"])[\"pos\"]\n",
    "        neg = analyzer.polarity_scores(tweet[\"text\"])[\"neg\"]\n",
    "        neu = analyzer.polarity_scores(tweet[\"text\"])[\"neu\"]\n",
    "        compoundlist.append(comp)\n",
    "        positivescore.append(pos)\n",
    "        negativescore.append(neg)\n",
    "        neutralscore.append(neu)\n",
    "        username.append(tweet[\"user\"][\"name\"])\n",
    "        date.append(tweet[\"created_at\"])\n",
    "        text.append(tweet[\"text\"])"
   ]
  },
  {
   "cell_type": "code",
   "execution_count": 8,
   "metadata": {},
   "outputs": [
    {
     "data": {
      "text/html": [
       "<div>\n",
       "<style>\n",
       "    .dataframe thead tr:only-child th {\n",
       "        text-align: right;\n",
       "    }\n",
       "\n",
       "    .dataframe thead th {\n",
       "        text-align: left;\n",
       "    }\n",
       "\n",
       "    .dataframe tbody tr th {\n",
       "        vertical-align: top;\n",
       "    }\n",
       "</style>\n",
       "<table border=\"1\" class=\"dataframe\">\n",
       "  <thead>\n",
       "    <tr style=\"text-align: right;\">\n",
       "      <th></th>\n",
       "      <th>comp</th>\n",
       "      <th>date</th>\n",
       "      <th>neg</th>\n",
       "      <th>neu</th>\n",
       "      <th>pos</th>\n",
       "      <th>source</th>\n",
       "      <th>text</th>\n",
       "      <th>username</th>\n",
       "    </tr>\n",
       "  </thead>\n",
       "  <tbody>\n",
       "    <tr>\n",
       "      <th>0</th>\n",
       "      <td>-0.5106</td>\n",
       "      <td>Sat Mar 24 06:05:19 +0000 2018</td>\n",
       "      <td>0.173</td>\n",
       "      <td>0.738</td>\n",
       "      <td>0.089</td>\n",
       "      <td>@nytimes</td>\n",
       "      <td>RT @StenderWorld: Exhibit A: a serial bombing ...</td>\n",
       "      <td>charlize 👸🏻</td>\n",
       "    </tr>\n",
       "    <tr>\n",
       "      <th>1</th>\n",
       "      <td>0.3434</td>\n",
       "      <td>Sat Mar 24 06:05:18 +0000 2018</td>\n",
       "      <td>0.092</td>\n",
       "      <td>0.757</td>\n",
       "      <td>0.151</td>\n",
       "      <td>@nytimes</td>\n",
       "      <td>RT @nytimes: Many counties, including rich one...</td>\n",
       "      <td>Israel</td>\n",
       "    </tr>\n",
       "    <tr>\n",
       "      <th>2</th>\n",
       "      <td>0.3434</td>\n",
       "      <td>Sat Mar 24 06:05:16 +0000 2018</td>\n",
       "      <td>0.092</td>\n",
       "      <td>0.757</td>\n",
       "      <td>0.151</td>\n",
       "      <td>@nytimes</td>\n",
       "      <td>RT @nytimes: Many counties, including rich one...</td>\n",
       "      <td>Lauren Smith</td>\n",
       "    </tr>\n",
       "    <tr>\n",
       "      <th>3</th>\n",
       "      <td>0.0000</td>\n",
       "      <td>Sat Mar 24 06:05:15 +0000 2018</td>\n",
       "      <td>0.000</td>\n",
       "      <td>1.000</td>\n",
       "      <td>0.000</td>\n",
       "      <td>@nytimes</td>\n",
       "      <td>RT @nytimes: Elon Musk joined #DeleteFacebook ...</td>\n",
       "      <td>Ray</td>\n",
       "    </tr>\n",
       "    <tr>\n",
       "      <th>4</th>\n",
       "      <td>0.0000</td>\n",
       "      <td>Sat Mar 24 06:05:02 +0000 2018</td>\n",
       "      <td>0.000</td>\n",
       "      <td>1.000</td>\n",
       "      <td>0.000</td>\n",
       "      <td>@nytimes</td>\n",
       "      <td>RT @nytimes: A geneticist at Harvard Medical S...</td>\n",
       "      <td>Israel</td>\n",
       "    </tr>\n",
       "    <tr>\n",
       "      <th>5</th>\n",
       "      <td>0.0000</td>\n",
       "      <td>Sat Mar 24 06:04:57 +0000 2018</td>\n",
       "      <td>0.000</td>\n",
       "      <td>1.000</td>\n",
       "      <td>0.000</td>\n",
       "      <td>@nytimes</td>\n",
       "      <td>RT @nytimes: Elon Musk joined #DeleteFacebook ...</td>\n",
       "      <td>barbaradees</td>\n",
       "    </tr>\n",
       "    <tr>\n",
       "      <th>6</th>\n",
       "      <td>0.0000</td>\n",
       "      <td>Sat Mar 24 06:04:51 +0000 2018</td>\n",
       "      <td>0.000</td>\n",
       "      <td>1.000</td>\n",
       "      <td>0.000</td>\n",
       "      <td>@nytimes</td>\n",
       "      <td>RT @nytimes: Facebook's CEO Mark Zuckerberg sp...</td>\n",
       "      <td>Israel</td>\n",
       "    </tr>\n",
       "    <tr>\n",
       "      <th>7</th>\n",
       "      <td>-0.5106</td>\n",
       "      <td>Sat Mar 24 06:04:49 +0000 2018</td>\n",
       "      <td>0.173</td>\n",
       "      <td>0.738</td>\n",
       "      <td>0.089</td>\n",
       "      <td>@nytimes</td>\n",
       "      <td>RT @StenderWorld: Exhibit A: a serial bombing ...</td>\n",
       "      <td>Levi Is Klance trash</td>\n",
       "    </tr>\n",
       "    <tr>\n",
       "      <th>8</th>\n",
       "      <td>0.2263</td>\n",
       "      <td>Sat Mar 24 06:04:48 +0000 2018</td>\n",
       "      <td>0.000</td>\n",
       "      <td>0.899</td>\n",
       "      <td>0.101</td>\n",
       "      <td>@nytimes</td>\n",
       "      <td>RT @nytimes: President Trump approved new limi...</td>\n",
       "      <td>Israel</td>\n",
       "    </tr>\n",
       "    <tr>\n",
       "      <th>9</th>\n",
       "      <td>0.0000</td>\n",
       "      <td>Sat Mar 24 06:04:47 +0000 2018</td>\n",
       "      <td>0.000</td>\n",
       "      <td>1.000</td>\n",
       "      <td>0.000</td>\n",
       "      <td>@nytimes</td>\n",
       "      <td>RT @HannaIngber: We've heard from readers conc...</td>\n",
       "      <td>Mirjam Swanson</td>\n",
       "    </tr>\n",
       "  </tbody>\n",
       "</table>\n",
       "</div>"
      ],
      "text/plain": [
       "     comp                            date    neg    neu    pos    source  \\\n",
       "0 -0.5106  Sat Mar 24 06:05:19 +0000 2018  0.173  0.738  0.089  @nytimes   \n",
       "1  0.3434  Sat Mar 24 06:05:18 +0000 2018  0.092  0.757  0.151  @nytimes   \n",
       "2  0.3434  Sat Mar 24 06:05:16 +0000 2018  0.092  0.757  0.151  @nytimes   \n",
       "3  0.0000  Sat Mar 24 06:05:15 +0000 2018  0.000  1.000  0.000  @nytimes   \n",
       "4  0.0000  Sat Mar 24 06:05:02 +0000 2018  0.000  1.000  0.000  @nytimes   \n",
       "5  0.0000  Sat Mar 24 06:04:57 +0000 2018  0.000  1.000  0.000  @nytimes   \n",
       "6  0.0000  Sat Mar 24 06:04:51 +0000 2018  0.000  1.000  0.000  @nytimes   \n",
       "7 -0.5106  Sat Mar 24 06:04:49 +0000 2018  0.173  0.738  0.089  @nytimes   \n",
       "8  0.2263  Sat Mar 24 06:04:48 +0000 2018  0.000  0.899  0.101  @nytimes   \n",
       "9  0.0000  Sat Mar 24 06:04:47 +0000 2018  0.000  1.000  0.000  @nytimes   \n",
       "\n",
       "                                                text              username  \n",
       "0  RT @StenderWorld: Exhibit A: a serial bombing ...           charlize 👸🏻  \n",
       "1  RT @nytimes: Many counties, including rich one...                Israel  \n",
       "2  RT @nytimes: Many counties, including rich one...          Lauren Smith  \n",
       "3  RT @nytimes: Elon Musk joined #DeleteFacebook ...                   Ray  \n",
       "4  RT @nytimes: A geneticist at Harvard Medical S...                Israel  \n",
       "5  RT @nytimes: Elon Musk joined #DeleteFacebook ...           barbaradees  \n",
       "6  RT @nytimes: Facebook's CEO Mark Zuckerberg sp...                Israel  \n",
       "7  RT @StenderWorld: Exhibit A: a serial bombing ...  Levi Is Klance trash  \n",
       "8  RT @nytimes: President Trump approved new limi...                Israel  \n",
       "9  RT @HannaIngber: We've heard from readers conc...        Mirjam Swanson  "
      ]
     },
     "execution_count": 8,
     "metadata": {},
     "output_type": "execute_result"
    }
   ],
   "source": [
    "# Convert sentiments to DataFrame\n",
    "df = pd.DataFrame({\"comp\":compoundlist, \"pos\":positivescore, \"neg\":negativescore, \"neu\":neutralscore, \"username\":username, \"text\": text, \"date\":date, \"source\":source})\n",
    "df.head(10)"
   ]
  },
  {
   "cell_type": "code",
   "execution_count": 9,
   "metadata": {},
   "outputs": [
    {
     "data": {
      "image/png": "[encoded data removed]",
      "text/plain": [
       "<matplotlib.figure.Figure at 0x1143dde10>"
      ]
     },
     "metadata": {},
     "output_type": "display_data"
    }
   ],
   "source": [
    "counter=0\n",
    "counter1=0\n",
    "counter2=0\n",
    "counter3=0\n",
    "counter4=0\n",
    "for index, row in df.iterrows():\n",
    "    if (row[\"source\"]==\"@CNN\"):\n",
    "        counter=counter+1\n",
    "        CNN=plt.scatter(counter,row[\"comp\"],c=\"r\",marker=\"o\")\n",
    "    if (row[\"source\"]==\"@CBS\"):\n",
    "        counter1=counter1+1\n",
    "        CBS=plt.scatter(counter1,row[\"comp\"],c=\"g\",marker=\"o\")\n",
    "    if (row[\"source\"]==\"@BBC\"):\n",
    "        counter2=counter2+1\n",
    "        BBC=plt.scatter(counter2,row[\"comp\"],c=\"cyan\",marker=\"o\")\n",
    "    if (row[\"source\"]==\"@nytimes\"):\n",
    "        counter3=counter3+1\n",
    "        nytimes=plt.scatter(counter3,row[\"comp\"],c=\"y\",marker=\"o\")\n",
    "    if (row[\"source\"]==\"@FoxNews\"):\n",
    "        counter4=counter4+1\n",
    "        FoxNews=plt.scatter(counter4,row[\"comp\"],c=\"b\",marker=\"o\")\n",
    "        \n",
    "plt.xlabel(\"tweets ago\")\n",
    "plt.ylabel(\"tweet polarity\")\n",
    "plt.legend(handles=[CNN,CBS,BBC,nytimes,FoxNews],labels=[\"CNN\", \"CBS\", \"BBC\", \"nytimes\", \"FoxNews\"], loc=\"center left\",bbox_to_anchor=(1,0.5))\n",
    "plt.title(\"Sentiment Analysis of Media Tweets (1/03/17)\")\n",
    "plt.show()"
   ]
  },
  {
   "cell_type": "code",
   "execution_count": 10,
   "metadata": {},
   "outputs": [
    {
     "data": {
      "text/html": [
       "<div>\n",
       "<style>\n",
       "    .dataframe thead tr:only-child th {\n",
       "        text-align: right;\n",
       "    }\n",
       "\n",
       "    .dataframe thead th {\n",
       "        text-align: left;\n",
       "    }\n",
       "\n",
       "    .dataframe tbody tr th {\n",
       "        vertical-align: top;\n",
       "    }\n",
       "</style>\n",
       "<table border=\"1\" class=\"dataframe\">\n",
       "  <thead>\n",
       "    <tr style=\"text-align: right;\">\n",
       "      <th></th>\n",
       "      <th>comp</th>\n",
       "    </tr>\n",
       "    <tr>\n",
       "      <th>source</th>\n",
       "      <th></th>\n",
       "    </tr>\n",
       "  </thead>\n",
       "  <tbody>\n",
       "    <tr>\n",
       "      <th>@BBC</th>\n",
       "      <td>-0.064639</td>\n",
       "    </tr>\n",
       "    <tr>\n",
       "      <th>@CBS</th>\n",
       "      <td>0.078695</td>\n",
       "    </tr>\n",
       "    <tr>\n",
       "      <th>@CNN</th>\n",
       "      <td>-0.044633</td>\n",
       "    </tr>\n",
       "    <tr>\n",
       "      <th>@FoxNews</th>\n",
       "      <td>-0.086861</td>\n",
       "    </tr>\n",
       "    <tr>\n",
       "      <th>@nytimes</th>\n",
       "      <td>0.015723</td>\n",
       "    </tr>\n",
       "  </tbody>\n",
       "</table>\n",
       "</div>"
      ],
      "text/plain": [
       "              comp\n",
       "source            \n",
       "@BBC     -0.064639\n",
       "@CBS      0.078695\n",
       "@CNN     -0.044633\n",
       "@FoxNews -0.086861\n",
       "@nytimes  0.015723"
      ]
     },
     "execution_count": 10,
     "metadata": {},
     "output_type": "execute_result"
    }
   ],
   "source": [
    "df2 = pd.DataFrame(df.groupby(\"source\")[\"comp\"].mean())\n",
    "df2"
   ]
  },
  {
   "cell_type": "code",
   "execution_count": 11,
   "metadata": {},
   "outputs": [
    {
     "data": {
      "image/png": "[encoded data removed]",
      "text/plain": [
       "<matplotlib.figure.Figure at 0x1137fa940>"
      ]
     },
     "metadata": {},
     "output_type": "display_data"
    }
   ],
   "source": [
    "x_axis = np.arange(len(df2[\"comp\"]))\n",
    "compound_score = df2[\"comp\"]\n",
    "tick_locations = [value+0.4 for value in x_axis]\n",
    "plt.xticks(tick_locations, [\"BBC\", \"CBS\", \"CNN\", \"FOX\", \"NYT\"])\n",
    "plt.bar(x_axis, compound_score, color = ['cyan','g','r','b','y'], alpha=0.5, align=\"edge\")\n",
    "plt.xlabel(\"Networks\")\n",
    "plt.ylabel(\"Tweet Polarity\")\n",
    "plt.title(\"Overall Media Sentiment Based on Twitter (1/03/17)\")\n",
    "sns.set()\n",
    "plt.show()"
   ]
  },
  {
   "cell_type": "code",
   "execution_count": null,
   "metadata": {
    "collapsed": true
   },
   "outputs": [],
   "source": []
  }
 ],
 "metadata": {
  "kernelspec": {
   "display_name": "Python 3",
   "language": "python",
   "name": "python3"
  },
  "language_info": {
   "codemirror_mode": {
    "name": "ipython",
    "version": 3
   },
   "file_extension": ".py",
   "mimetype": "text/x-python",
   "name": "python",
   "nbconvert_exporter": "python",
   "pygments_lexer": "ipython3",
   "version": "3.6.3"
  }
 },
 "nbformat": 4,
 "nbformat_minor": 2
}
